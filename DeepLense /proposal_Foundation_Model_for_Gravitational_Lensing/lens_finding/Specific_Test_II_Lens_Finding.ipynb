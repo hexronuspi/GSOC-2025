{
  "cells": [
    {
      "cell_type": "markdown",
      "metadata": {
        "id": "RpU8K_caC7-B"
      },
      "source": [
        "# Lens Finding"
      ]
    },
    {
      "cell_type": "code",
      "execution_count": 2,
      "metadata": {
        "colab": {
          "base_uri": "https://localhost:8080/"
        },
        "id": "j52rq-BvC3Eg",
        "outputId": "f99fd658-4b16-4dbc-cdff-d6f65312c07c"
      },
      "outputs": [
        {
          "name": "stdout",
          "output_type": "stream",
          "text": [
            "Downloading...\n",
            "From (original): https://drive.google.com/uc?id=1doUhVoq1-c9pamZVLpvjW1YRDMkKO1Q5\n",
            "From (redirected): https://drive.google.com/uc?id=1doUhVoq1-c9pamZVLpvjW1YRDMkKO1Q5&confirm=t&uuid=6128ddb5-cf37-4f7c-9eaa-3025a22f90a7\n",
            "To: /content/lens-finding-test.zip\n",
            "100% 2.11G/2.11G [00:49<00:00, 43.0MB/s]\n"
          ]
        }
      ],
      "source": [
        "!gdown 1doUhVoq1-c9pamZVLpvjW1YRDMkKO1Q5"
      ]
    },
    {
      "cell_type": "code",
      "execution_count": null,
      "metadata": {
        "id": "jAdD4dr0C_6X"
      },
      "outputs": [],
      "source": [
        "!unzip /content/lens-finding-test.zip"
      ]
    },
    {
      "cell_type": "code",
      "execution_count": 4,
      "metadata": {
        "id": "gdv6SUBaF05w"
      },
      "outputs": [],
      "source": [
        "import matplotlib.pyplot as plt\n",
        "import seaborn as sns"
      ]
    },
    {
      "cell_type": "code",
      "execution_count": 6,
      "metadata": {
        "id": "0JgQ_hQ2NPM9"
      },
      "outputs": [],
      "source": [
        "import torch\n",
        "import torch.nn as nn\n",
        "import torch.nn.functional as F\n",
        "import torchvision\n",
        "from torchvision.models import ConvNeXt_Base_Weights\n",
        "import numpy as np\n",
        "from torch.utils.data import Dataset, DataLoader\n",
        "from sklearn.metrics import (\n",
        "    accuracy_score, roc_auc_score,\n",
        "    precision_recall_fscore_support,\n",
        "    confusion_matrix, classification_report\n",
        ")\n",
        "from sklearn.model_selection import StratifiedKFold\n",
        "import torch.optim as optim\n",
        "from tqdm import tqdm\n",
        "import os\n",
        "import glob\n",
        "from PIL import Image\n",
        "import torchvision.transforms as transforms\n",
        "from torch.cuda.amp import autocast, GradScaler"
      ]
    },
    {
      "cell_type": "code",
      "execution_count": 7,
      "metadata": {
        "id": "ypvOiGsXERMc"
      },
      "outputs": [],
      "source": [
        "import random\n",
        "\n",
        "torch.manual_seed(42)\n",
        "np.random.seed(42)\n",
        "random.seed(42)\n",
        "\n",
        "device = torch.device('cuda' if torch.cuda.is_available() else 'cpu')"
      ]
    },
    {
      "cell_type": "code",
      "execution_count": 8,
      "metadata": {
        "colab": {
          "base_uri": "https://localhost:8080/"
        },
        "id": "YWoppbohES_v",
        "outputId": "9e15101e-5fd0-450f-dca9-108ab147f343"
      },
      "outputs": [
        {
          "name": "stdout",
          "output_type": "stream",
          "text": [
            "Using device: cuda\n",
            "GPU: NVIDIA L4\n",
            "Memory allocated: 0.00 GB\n",
            "Memory cached: 0.00 GB\n"
          ]
        },
        {
          "name": "stderr",
          "output_type": "stream",
          "text": [
            "<ipython-input-8-bf90bd893c2b>:5: FutureWarning: `torch.cuda.memory_cached` has been renamed to `torch.cuda.memory_reserved`\n",
            "  print(f\"Memory cached: {torch.cuda.memory_cached(0) / 1e9:.2f} GB\")\n"
          ]
        }
      ],
      "source": [
        "print(f\"Using device: {device}\")\n",
        "if torch.cuda.is_available():\n",
        "    print(f\"GPU: {torch.cuda.get_device_name(0)}\")\n",
        "    print(f\"Memory allocated: {torch.cuda.memory_allocated(0) / 1e9:.2f} GB\")\n",
        "    print(f\"Memory cached: {torch.cuda.memory_cached(0) / 1e9:.2f} GB\")"
      ]
    },
    {
      "cell_type": "code",
      "execution_count": 9,
      "metadata": {
        "id": "ihTwWUBYET-m"
      },
      "outputs": [],
      "source": [
        "torch.cuda.empty_cache()\n",
        "torch.cuda.reset_peak_memory_stats()\n",
        "torch.cuda.reset_accumulated_memory_stats()"
      ]
    },
    {
      "cell_type": "code",
      "execution_count": 9,
      "metadata": {
        "id": "R6ILkvqlVRBC"
      },
      "outputs": [],
      "source": [
        "class MoESelfAttention2d(nn.Module):\n",
        "    def __init__(self, in_channels, num_experts=4, dropout=0.2, temperature=0.1):\n",
        "        super().__init__()\n",
        "        self.num_experts = num_experts\n",
        "        self.temperature = temperature\n",
        "\n",
        "        self.experts = nn.ModuleList([\n",
        "            nn.Sequential(\n",
        "                nn.Conv2d(in_channels, in_channels // 2, kernel_size=3, padding=1),\n",
        "                nn.GELU(),\n",
        "                nn.Conv2d(in_channels // 2, in_channels, kernel_size=3, padding=1)\n",
        "            ) for _ in range(num_experts)\n",
        "        ])\n",
        "\n",
        "        self.router = nn.Sequential(\n",
        "            nn.AdaptiveAvgPool2d(1),\n",
        "            nn.Flatten(),\n",
        "            nn.Linear(in_channels, num_experts, bias=False)\n",
        "        )\n",
        "\n",
        "        self.dropout = nn.Dropout2d(dropout)\n",
        "        self.norm = nn.LayerNorm(in_channels)\n",
        "\n",
        "    def forward(self, x):\n",
        "        B, C, H, W = x.shape\n",
        "        orig_x = x\n",
        "\n",
        "        router_logits = self.router(x)\n",
        "        if self.training:\n",
        "            eps = 1e-20\n",
        "            U = torch.rand(router_logits.shape, device=x.device)\n",
        "            gumbel = -torch.log(-torch.log(U + eps) + eps)\n",
        "            weights = torch.softmax((router_logits + gumbel) / self.temperature, dim=-1)\n",
        "        else:\n",
        "            weights = torch.softmax(router_logits / self.temperature, dim=-1)\n",
        "\n",
        "        expert_outputs = []\n",
        "        for expert in self.experts:\n",
        "            expert_outputs.append(expert(x))\n",
        "        expert_outputs = torch.stack(expert_outputs, dim=1)\n",
        "        weights = weights.view(B, self.num_experts, 1, 1, 1)\n",
        "        combined = (expert_outputs * weights).sum(dim=1)\n",
        "\n",
        "        out = orig_x + self.dropout(combined)\n",
        "        out = out.permute(0, 2, 3, 1)\n",
        "        out = self.norm(out)\n",
        "        out = out.permute(0, 3, 1, 2)\n",
        "        return out\n",
        "\n",
        "class GravitationalLensClassifier(nn.Module):\n",
        "    def __init__(self, num_classes=2, drop_rate=0.3):\n",
        "        super().__init__()\n",
        "        backbone = torchvision.models.convnext_base(weights=ConvNeXt_Base_Weights.IMAGENET1K_V1)\n",
        "        layers = list(backbone.children())[:-1]\n",
        "        self.feature_extractor = nn.Sequential(*layers)\n",
        "\n",
        "        self.attn1 = MoESelfAttention2d(1024)\n",
        "        self.attn2 = MoESelfAttention2d(1024)\n",
        "\n",
        "        self.head = nn.Sequential(\n",
        "            nn.LayerNorm(1024),\n",
        "            nn.Linear(1024, 512),\n",
        "            nn.GELU(),\n",
        "            nn.Dropout(drop_rate),\n",
        "            nn.Linear(512, num_classes)\n",
        "        )\n",
        "\n",
        "        self.class_weights = torch.tensor([0.2, 0.8])\n",
        "\n",
        "    def forward(self, x):\n",
        "        with torch.amp.autocast(device_type='cuda', enabled=True):\n",
        "            x = self.feature_extractor(x)\n",
        "            x = self.attn1(x)\n",
        "            x = self.attn2(x)\n",
        "            x = x.mean(dim=[2, 3])\n",
        "            return self.head(x)"
      ]
    },
    {
      "cell_type": "code",
      "execution_count": 10,
      "metadata": {
        "id": "w4_xDXhiVS8i"
      },
      "outputs": [],
      "source": [
        "class AdvancedAstroAugment:\n",
        "    def __init__(self):\n",
        "        self.transform = transforms.Compose([\n",
        "            transforms.Resize(256),\n",
        "            transforms.RandomResizedCrop(224, scale=(0.6, 1.0)),\n",
        "            transforms.RandomApply([transforms.ColorJitter(0.2, 0.2, 0.2, 0.1)], p=0.5),\n",
        "            transforms.RandomHorizontalFlip(),\n",
        "            transforms.RandomVerticalFlip(),\n",
        "            transforms.RandomRotation(45),\n",
        "            transforms.RandomAffine(degrees=0, translate=(0.1, 0.1)),\n",
        "            transforms.GaussianBlur(3, sigma=(0.1, 2.0)),\n",
        "            transforms.ToTensor(),\n",
        "            transforms.Normalize(mean=[0.485, 0.456, 0.406],\n",
        "                                 std=[0.229, 0.224, 0.225]),\n",
        "            transforms.RandomErasing(p=0.3, scale=(0.02, 0.2))\n",
        "        ])\n",
        "\n",
        "    def __call__(self, img):\n",
        "        return self.transform(img)\n"
      ]
    },
    {
      "cell_type": "code",
      "execution_count": 11,
      "metadata": {
        "id": "NAl47eLCVUlR"
      },
      "outputs": [],
      "source": [
        "val_transform = transforms.Compose([\n",
        "    transforms.Resize(256),\n",
        "    transforms.CenterCrop(224),\n",
        "    transforms.ToTensor(),\n",
        "    transforms.Normalize(mean=[0.485, 0.456, 0.406],\n",
        "                         std=[0.229, 0.224, 0.225])\n",
        "])\n"
      ]
    },
    {
      "cell_type": "code",
      "execution_count": 12,
      "metadata": {
        "id": "CQ8VFnrbVkYx"
      },
      "outputs": [],
      "source": [
        "class NPYDataset(Dataset):\n",
        "    def __init__(self, file_list, labels, transform=None, cache=True):\n",
        "        self.file_list = file_list\n",
        "        self.labels = labels\n",
        "        self.transform = transform\n",
        "        self.cache = cache\n",
        "        self._cache = {}\n",
        "\n",
        "    def __len__(self):\n",
        "        return len(self.file_list)\n",
        "\n",
        "    def __getitem__(self, idx):\n",
        "        if idx in self._cache:\n",
        "            img, label = self._cache[idx]\n",
        "        else:\n",
        "            img = np.load(self.file_list[idx])\n",
        "            img = np.squeeze(img)\n",
        "            if img.ndim == 1:\n",
        "                side = int(np.sqrt(img.shape[0]))\n",
        "                if side * side == img.shape[0]:\n",
        "                    img = img.reshape((side, side))\n",
        "                else:\n",
        "                    raise ValueError(f\"1D image of length {img.shape[0]} cannot be reshaped to square\")\n",
        "            if img.ndim == 2:\n",
        "                img = np.stack([img] * 3, axis=-1)\n",
        "            elif img.ndim == 3:\n",
        "                if img.shape[0] == 1:\n",
        "                    img = np.repeat(img, 3, axis=0)\n",
        "                    img = np.transpose(img, (1, 2, 0))\n",
        "                elif img.shape[0] == 3:\n",
        "                    img = np.transpose(img, (1, 2, 0))\n",
        "            else:\n",
        "                raise ValueError(f\"Unexpected image shape: {img.shape}\")\n",
        "            img = (img * 255).astype(np.uint8)\n",
        "            try:\n",
        "                img = Image.fromarray(img)\n",
        "            except Exception as e:\n",
        "                raise TypeError(f\"Error converting array with shape {img.shape} to image: {e}\")\n",
        "            label = self.labels[idx]\n",
        "            if self.cache:\n",
        "                self._cache[idx] = (img, label)\n",
        "        if self.transform:\n",
        "            img = self.transform(img)\n",
        "        return img, label\n"
      ]
    },
    {
      "cell_type": "code",
      "execution_count": 13,
      "metadata": {
        "id": "Lq33WPrigdz9"
      },
      "outputs": [],
      "source": [
        "class AsymmetricFocalLoss(nn.Module):\n",
        "    def __init__(self, alpha=0.8, gamma=2.0, eps=1e-7):\n",
        "        super().__init__()\n",
        "        self.alpha = alpha\n",
        "        self.gamma = gamma\n",
        "        self.eps = eps\n",
        "\n",
        "    def forward(self, inputs, targets):\n",
        "        ce_loss = F.cross_entropy(inputs, targets, reduction='none')\n",
        "        pt = torch.exp(-ce_loss)\n",
        "        focal_loss = self.alpha * (1 - pt) ** self.gamma * ce_loss\n",
        "        return focal_loss.mean()\n"
      ]
    },
    {
      "cell_type": "code",
      "execution_count": 14,
      "metadata": {
        "id": "wTJhfLzfgfnp"
      },
      "outputs": [],
      "source": [
        "class Trainer:\n",
        "    def __init__(self, model, device, optimizer, scheduler, criterion, scaler):\n",
        "        self.model = model\n",
        "        self.device = device\n",
        "        self.optimizer = optimizer\n",
        "        self.scheduler = scheduler\n",
        "        self.criterion = criterion\n",
        "        self.scaler = scaler\n",
        "\n",
        "    def train_epoch(self, loader):\n",
        "        self.model.train()\n",
        "        total_loss = 0\n",
        "        all_preds = []\n",
        "        all_targets = []\n",
        "\n",
        "        for images, targets in tqdm(loader, desc=\"Training\", leave=False):\n",
        "            images = images.to(self.device)\n",
        "            targets = targets.to(self.device)\n",
        "\n",
        "            self.optimizer.zero_grad()\n",
        "\n",
        "            with torch.amp.autocast(device_type='cuda', enabled=True):\n",
        "                outputs = self.model(images)\n",
        "                loss = self.criterion(outputs, targets)\n",
        "\n",
        "            self.scaler.scale(loss).backward()\n",
        "            self.scaler.step(self.optimizer)\n",
        "            self.scaler.update()\n",
        "            self.scheduler.step()\n",
        "\n",
        "            total_loss += loss.item()\n",
        "            all_preds.append(outputs.detach().cpu())\n",
        "            all_targets.append(targets.detach().cpu())\n",
        "\n",
        "        return total_loss / len(loader), torch.cat(all_preds), torch.cat(all_targets)\n",
        "\n",
        "    @torch.no_grad()\n",
        "    def evaluate(self, loader):\n",
        "        self.model.eval()\n",
        "        total_loss = 0\n",
        "        all_preds = []\n",
        "        all_targets = []\n",
        "\n",
        "        for images, targets in tqdm(loader, desc=\"Evaluating\", leave=False):\n",
        "            images = images.to(self.device)\n",
        "            targets = targets.to(self.device)\n",
        "\n",
        "            outputs = self.model(images)\n",
        "            loss = self.criterion(outputs, targets)\n",
        "\n",
        "            total_loss += loss.item()\n",
        "            all_preds.append(outputs.cpu())\n",
        "            all_targets.append(targets.cpu())\n",
        "\n",
        "        return total_loss / len(loader), torch.cat(all_preds), torch.cat(all_targets)\n"
      ]
    },
    {
      "cell_type": "code",
      "execution_count": 15,
      "metadata": {
        "id": "nRk5W4Jfgh4J"
      },
      "outputs": [],
      "source": [
        "def calculate_metrics(preds, targets):\n",
        "    preds_softmax = torch.softmax(preds, dim=1)\n",
        "    probs = preds_softmax.numpy()\n",
        "    pred_labels = preds_softmax.argmax(dim=1).numpy()\n",
        "    targets = targets.numpy()\n",
        "\n",
        "    metrics = {\n",
        "        'accuracy': accuracy_score(targets, pred_labels),\n",
        "        'roc_auc': roc_auc_score(targets, probs[:, 1]),\n",
        "        'precision_recall_fscore': precision_recall_fscore_support(targets, pred_labels, average='binary'),\n",
        "        'confusion_matrix': confusion_matrix(targets, pred_labels),\n",
        "        'class_report': classification_report(targets, pred_labels, target_names=['non-lens', 'lens'])\n",
        "    }\n",
        "    return metrics\n",
        "\n",
        "def load_dataset_paths(data_root='/content'):\n",
        "    classes = {'train_nonlenses': 0, 'train_lenses': 1}\n",
        "    file_paths = []\n",
        "    labels = []\n",
        "    for cls_name, label in classes.items():\n",
        "        folder = os.path.join(data_root, cls_name)\n",
        "        files = glob.glob(os.path.join(folder, \"*.npy\"))\n",
        "        file_paths.extend(files)\n",
        "        labels.extend([label] * len(files))\n",
        "    labels = np.array(labels)\n",
        "    return file_paths, labels"
      ]
    },
    {
      "cell_type": "code",
      "execution_count": 16,
      "metadata": {
        "colab": {
          "base_uri": "https://localhost:8080/"
        },
        "id": "LkZwj6TbglnN",
        "outputId": "ad91b784-5e70-455b-da67-2f446f31928b"
      },
      "outputs": [
        {
          "name": "stdout",
          "output_type": "stream",
          "text": [
            "\n",
            "=== Fold 1/3 ===\n"
          ]
        },
        {
          "name": "stderr",
          "output_type": "stream",
          "text": [
            "Downloading: \"https://download.pytorch.org/models/convnext_base-6075fbad.pth\" to /root/.cache/torch/hub/checkpoints/convnext_base-6075fbad.pth\n",
            "100%|██████████| 338M/338M [00:01<00:00, 197MB/s]\n"
          ]
        },
        {
          "name": "stdout",
          "output_type": "stream",
          "text": [
            "\n",
            "Epoch 1/10\n"
          ]
        },
        {
          "name": "stderr",
          "output_type": "stream",
          "text": []
        },
        {
          "name": "stdout",
          "output_type": "stream",
          "text": [
            "Train Loss: 0.0528 | Val Loss: 0.0231\n",
            "Val ROC AUC: 0.9805\n",
            "Confusion Matrix:\n",
            "[[9229  330]\n",
            " [  80  496]]\n",
            "Classification Report:\n",
            "              precision    recall  f1-score   support\n",
            "\n",
            "    non-lens       0.99      0.97      0.98      9559\n",
            "        lens       0.60      0.86      0.71       576\n",
            "\n",
            "    accuracy                           0.96     10135\n",
            "   macro avg       0.80      0.91      0.84     10135\n",
            "weighted avg       0.97      0.96      0.96     10135\n",
            "\n",
            "\n",
            "Epoch 2/10\n"
          ]
        },
        {
          "name": "stderr",
          "output_type": "stream",
          "text": []
        },
        {
          "name": "stdout",
          "output_type": "stream",
          "text": [
            "Train Loss: 0.0428 | Val Loss: 0.0331\n",
            "Val ROC AUC: 0.9873\n",
            "Confusion Matrix:\n",
            "[[8959  600]\n",
            " [  19  557]]\n",
            "Classification Report:\n",
            "              precision    recall  f1-score   support\n",
            "\n",
            "    non-lens       1.00      0.94      0.97      9559\n",
            "        lens       0.48      0.97      0.64       576\n",
            "\n",
            "    accuracy                           0.94     10135\n",
            "   macro avg       0.74      0.95      0.80     10135\n",
            "weighted avg       0.97      0.94      0.95     10135\n",
            "\n",
            "\n",
            "Epoch 3/10\n"
          ]
        },
        {
          "name": "stderr",
          "output_type": "stream",
          "text": []
        },
        {
          "name": "stdout",
          "output_type": "stream",
          "text": [
            "Train Loss: 0.0429 | Val Loss: 0.0601\n",
            "Val ROC AUC: 0.9844\n",
            "Confusion Matrix:\n",
            "[[8632  927]\n",
            " [  17  559]]\n",
            "Classification Report:\n",
            "              precision    recall  f1-score   support\n",
            "\n",
            "    non-lens       1.00      0.90      0.95      9559\n",
            "        lens       0.38      0.97      0.54       576\n",
            "\n",
            "    accuracy                           0.91     10135\n",
            "   macro avg       0.69      0.94      0.75     10135\n",
            "weighted avg       0.96      0.91      0.93     10135\n",
            "\n",
            "\n",
            "Epoch 4/10\n"
          ]
        },
        {
          "name": "stderr",
          "output_type": "stream",
          "text": []
        },
        {
          "name": "stdout",
          "output_type": "stream",
          "text": [
            "Train Loss: 0.0402 | Val Loss: 0.0208\n",
            "Val ROC AUC: 0.9896\n",
            "Confusion Matrix:\n",
            "[[9273  286]\n",
            " [  46  530]]\n",
            "Classification Report:\n",
            "              precision    recall  f1-score   support\n",
            "\n",
            "    non-lens       1.00      0.97      0.98      9559\n",
            "        lens       0.65      0.92      0.76       576\n",
            "\n",
            "    accuracy                           0.97     10135\n",
            "   macro avg       0.82      0.95      0.87     10135\n",
            "weighted avg       0.98      0.97      0.97     10135\n",
            "\n",
            "\n",
            "Epoch 5/10\n"
          ]
        },
        {
          "name": "stderr",
          "output_type": "stream",
          "text": []
        },
        {
          "name": "stdout",
          "output_type": "stream",
          "text": [
            "Train Loss: 0.0363 | Val Loss: 0.0659\n",
            "Val ROC AUC: 0.9891\n",
            "Confusion Matrix:\n",
            "[[8278 1281]\n",
            " [   8  568]]\n",
            "Classification Report:\n",
            "              precision    recall  f1-score   support\n",
            "\n",
            "    non-lens       1.00      0.87      0.93      9559\n",
            "        lens       0.31      0.99      0.47       576\n",
            "\n",
            "    accuracy                           0.87     10135\n",
            "   macro avg       0.65      0.93      0.70     10135\n",
            "weighted avg       0.96      0.87      0.90     10135\n",
            "\n",
            "\n",
            "Epoch 6/10\n"
          ]
        },
        {
          "name": "stderr",
          "output_type": "stream",
          "text": []
        },
        {
          "name": "stdout",
          "output_type": "stream",
          "text": [
            "Train Loss: 0.0298 | Val Loss: 0.0163\n",
            "Val ROC AUC: 0.9868\n",
            "Confusion Matrix:\n",
            "[[9381  178]\n",
            " [ 104  472]]\n",
            "Classification Report:\n",
            "              precision    recall  f1-score   support\n",
            "\n",
            "    non-lens       0.99      0.98      0.99      9559\n",
            "        lens       0.73      0.82      0.77       576\n",
            "\n",
            "    accuracy                           0.97     10135\n",
            "   macro avg       0.86      0.90      0.88     10135\n",
            "weighted avg       0.97      0.97      0.97     10135\n",
            "\n",
            "\n",
            "Epoch 7/10\n"
          ]
        },
        {
          "name": "stderr",
          "output_type": "stream",
          "text": []
        },
        {
          "name": "stdout",
          "output_type": "stream",
          "text": [
            "Train Loss: 0.0263 | Val Loss: 0.0221\n",
            "Val ROC AUC: 0.9913\n",
            "Confusion Matrix:\n",
            "[[9255  304]\n",
            " [  29  547]]\n",
            "Classification Report:\n",
            "              precision    recall  f1-score   support\n",
            "\n",
            "    non-lens       1.00      0.97      0.98      9559\n",
            "        lens       0.64      0.95      0.77       576\n",
            "\n",
            "    accuracy                           0.97     10135\n",
            "   macro avg       0.82      0.96      0.87     10135\n",
            "weighted avg       0.98      0.97      0.97     10135\n",
            "\n",
            "\n",
            "Epoch 8/10\n"
          ]
        },
        {
          "name": "stderr",
          "output_type": "stream",
          "text": []
        },
        {
          "name": "stdout",
          "output_type": "stream",
          "text": [
            "Train Loss: 0.0207 | Val Loss: 0.0184\n",
            "Val ROC AUC: 0.9926\n",
            "Confusion Matrix:\n",
            "[[9276  283]\n",
            " [  26  550]]\n",
            "Classification Report:\n",
            "              precision    recall  f1-score   support\n",
            "\n",
            "    non-lens       1.00      0.97      0.98      9559\n",
            "        lens       0.66      0.95      0.78       576\n",
            "\n",
            "    accuracy                           0.97     10135\n",
            "   macro avg       0.83      0.96      0.88     10135\n",
            "weighted avg       0.98      0.97      0.97     10135\n",
            "\n",
            "\n",
            "Epoch 9/10\n"
          ]
        },
        {
          "name": "stderr",
          "output_type": "stream",
          "text": []
        },
        {
          "name": "stdout",
          "output_type": "stream",
          "text": [
            "Train Loss: 0.0174 | Val Loss: 0.0188\n",
            "Val ROC AUC: 0.9928\n",
            "Confusion Matrix:\n",
            "[[9323  236]\n",
            " [  27  549]]\n",
            "Classification Report:\n",
            "              precision    recall  f1-score   support\n",
            "\n",
            "    non-lens       1.00      0.98      0.99      9559\n",
            "        lens       0.70      0.95      0.81       576\n",
            "\n",
            "    accuracy                           0.97     10135\n",
            "   macro avg       0.85      0.96      0.90     10135\n",
            "weighted avg       0.98      0.97      0.98     10135\n",
            "\n",
            "\n",
            "Epoch 10/10\n"
          ]
        },
        {
          "name": "stderr",
          "output_type": "stream",
          "text": []
        },
        {
          "name": "stdout",
          "output_type": "stream",
          "text": [
            "Train Loss: 0.0167 | Val Loss: 0.0169\n",
            "Val ROC AUC: 0.9926\n",
            "Confusion Matrix:\n",
            "[[9355  204]\n",
            " [  31  545]]\n",
            "Classification Report:\n",
            "              precision    recall  f1-score   support\n",
            "\n",
            "    non-lens       1.00      0.98      0.99      9559\n",
            "        lens       0.73      0.95      0.82       576\n",
            "\n",
            "    accuracy                           0.98     10135\n",
            "   macro avg       0.86      0.96      0.91     10135\n",
            "weighted avg       0.98      0.98      0.98     10135\n",
            "\n",
            "\n",
            "=== Fold 2/3 ===\n",
            "\n",
            "Epoch 1/10\n"
          ]
        },
        {
          "name": "stderr",
          "output_type": "stream",
          "text": []
        },
        {
          "name": "stdout",
          "output_type": "stream",
          "text": [
            "Train Loss: 0.0520 | Val Loss: 0.0560\n",
            "Val ROC AUC: 0.9849\n",
            "Confusion Matrix:\n",
            "[[8604  954]\n",
            " [  14  563]]\n",
            "Classification Report:\n",
            "              precision    recall  f1-score   support\n",
            "\n",
            "    non-lens       1.00      0.90      0.95      9558\n",
            "        lens       0.37      0.98      0.54       577\n",
            "\n",
            "    accuracy                           0.90     10135\n",
            "   macro avg       0.68      0.94      0.74     10135\n",
            "weighted avg       0.96      0.90      0.92     10135\n",
            "\n",
            "\n",
            "Epoch 2/10\n"
          ]
        },
        {
          "name": "stderr",
          "output_type": "stream",
          "text": []
        },
        {
          "name": "stdout",
          "output_type": "stream",
          "text": [
            "Train Loss: 0.0417 | Val Loss: 0.0221\n",
            "Val ROC AUC: 0.9877\n",
            "Confusion Matrix:\n",
            "[[9183  375]\n",
            " [  35  542]]\n",
            "Classification Report:\n",
            "              precision    recall  f1-score   support\n",
            "\n",
            "    non-lens       1.00      0.96      0.98      9558\n",
            "        lens       0.59      0.94      0.73       577\n",
            "\n",
            "    accuracy                           0.96     10135\n",
            "   macro avg       0.79      0.95      0.85     10135\n",
            "weighted avg       0.97      0.96      0.96     10135\n",
            "\n",
            "\n",
            "Epoch 3/10\n"
          ]
        },
        {
          "name": "stderr",
          "output_type": "stream",
          "text": []
        },
        {
          "name": "stdout",
          "output_type": "stream",
          "text": [
            "Train Loss: 0.0420 | Val Loss: 0.0211\n",
            "Val ROC AUC: 0.9872\n",
            "Confusion Matrix:\n",
            "[[9204  354]\n",
            " [  39  538]]\n",
            "Classification Report:\n",
            "              precision    recall  f1-score   support\n",
            "\n",
            "    non-lens       1.00      0.96      0.98      9558\n",
            "        lens       0.60      0.93      0.73       577\n",
            "\n",
            "    accuracy                           0.96     10135\n",
            "   macro avg       0.80      0.95      0.86     10135\n",
            "weighted avg       0.97      0.96      0.97     10135\n",
            "\n",
            "\n",
            "Epoch 4/10\n"
          ]
        },
        {
          "name": "stderr",
          "output_type": "stream",
          "text": []
        },
        {
          "name": "stdout",
          "output_type": "stream",
          "text": [
            "Train Loss: 0.0393 | Val Loss: 0.0410\n",
            "Val ROC AUC: 0.9877\n",
            "Confusion Matrix:\n",
            "[[9034  524]\n",
            " [  26  551]]\n",
            "Classification Report:\n",
            "              precision    recall  f1-score   support\n",
            "\n",
            "    non-lens       1.00      0.95      0.97      9558\n",
            "        lens       0.51      0.95      0.67       577\n",
            "\n",
            "    accuracy                           0.95     10135\n",
            "   macro avg       0.75      0.95      0.82     10135\n",
            "weighted avg       0.97      0.95      0.95     10135\n",
            "\n",
            "\n",
            "Epoch 5/10\n"
          ]
        },
        {
          "name": "stderr",
          "output_type": "stream",
          "text": []
        },
        {
          "name": "stdout",
          "output_type": "stream",
          "text": [
            "Train Loss: 0.0354 | Val Loss: 0.0181\n",
            "Val ROC AUC: 0.9895\n",
            "Confusion Matrix:\n",
            "[[9206  352]\n",
            " [  31  546]]\n",
            "Classification Report:\n",
            "              precision    recall  f1-score   support\n",
            "\n",
            "    non-lens       1.00      0.96      0.98      9558\n",
            "        lens       0.61      0.95      0.74       577\n",
            "\n",
            "    accuracy                           0.96     10135\n",
            "   macro avg       0.80      0.95      0.86     10135\n",
            "weighted avg       0.97      0.96      0.97     10135\n",
            "\n",
            "\n",
            "Epoch 6/10\n"
          ]
        },
        {
          "name": "stderr",
          "output_type": "stream",
          "text": []
        },
        {
          "name": "stdout",
          "output_type": "stream",
          "text": [
            "Train Loss: 0.0317 | Val Loss: 0.0231\n",
            "Val ROC AUC: 0.9892\n",
            "Confusion Matrix:\n",
            "[[9192  366]\n",
            " [  27  550]]\n",
            "Classification Report:\n",
            "              precision    recall  f1-score   support\n",
            "\n",
            "    non-lens       1.00      0.96      0.98      9558\n",
            "        lens       0.60      0.95      0.74       577\n",
            "\n",
            "    accuracy                           0.96     10135\n",
            "   macro avg       0.80      0.96      0.86     10135\n",
            "weighted avg       0.97      0.96      0.97     10135\n",
            "\n",
            "\n",
            "Epoch 7/10\n"
          ]
        },
        {
          "name": "stderr",
          "output_type": "stream",
          "text": []
        },
        {
          "name": "stdout",
          "output_type": "stream",
          "text": [
            "Train Loss: 0.0252 | Val Loss: 0.0182\n",
            "Val ROC AUC: 0.9933\n",
            "Confusion Matrix:\n",
            "[[9260  298]\n",
            " [  29  548]]\n",
            "Classification Report:\n",
            "              precision    recall  f1-score   support\n",
            "\n",
            "    non-lens       1.00      0.97      0.98      9558\n",
            "        lens       0.65      0.95      0.77       577\n",
            "\n",
            "    accuracy                           0.97     10135\n",
            "   macro avg       0.82      0.96      0.88     10135\n",
            "weighted avg       0.98      0.97      0.97     10135\n",
            "\n",
            "\n",
            "Epoch 8/10\n"
          ]
        },
        {
          "name": "stderr",
          "output_type": "stream",
          "text": []
        },
        {
          "name": "stdout",
          "output_type": "stream",
          "text": [
            "Train Loss: 0.0212 | Val Loss: 0.0214\n",
            "Val ROC AUC: 0.9928\n",
            "Confusion Matrix:\n",
            "[[9201  357]\n",
            " [  26  551]]\n",
            "Classification Report:\n",
            "              precision    recall  f1-score   support\n",
            "\n",
            "    non-lens       1.00      0.96      0.98      9558\n",
            "        lens       0.61      0.95      0.74       577\n",
            "\n",
            "    accuracy                           0.96     10135\n",
            "   macro avg       0.80      0.96      0.86     10135\n",
            "weighted avg       0.97      0.96      0.97     10135\n",
            "\n",
            "\n",
            "Epoch 9/10\n"
          ]
        },
        {
          "name": "stderr",
          "output_type": "stream",
          "text": []
        },
        {
          "name": "stdout",
          "output_type": "stream",
          "text": [
            "Train Loss: 0.0183 | Val Loss: 0.0167\n",
            "Val ROC AUC: 0.9940\n",
            "Confusion Matrix:\n",
            "[[9288  270]\n",
            " [  24  553]]\n",
            "Classification Report:\n",
            "              precision    recall  f1-score   support\n",
            "\n",
            "    non-lens       1.00      0.97      0.98      9558\n",
            "        lens       0.67      0.96      0.79       577\n",
            "\n",
            "    accuracy                           0.97     10135\n",
            "   macro avg       0.83      0.97      0.89     10135\n",
            "weighted avg       0.98      0.97      0.97     10135\n",
            "\n",
            "\n",
            "Epoch 10/10\n"
          ]
        },
        {
          "name": "stderr",
          "output_type": "stream",
          "text": []
        },
        {
          "name": "stdout",
          "output_type": "stream",
          "text": [
            "Train Loss: 0.0152 | Val Loss: 0.0157\n",
            "Val ROC AUC: 0.9942\n",
            "Confusion Matrix:\n",
            "[[9329  229]\n",
            " [  24  553]]\n",
            "Classification Report:\n",
            "              precision    recall  f1-score   support\n",
            "\n",
            "    non-lens       1.00      0.98      0.99      9558\n",
            "        lens       0.71      0.96      0.81       577\n",
            "\n",
            "    accuracy                           0.98     10135\n",
            "   macro avg       0.85      0.97      0.90     10135\n",
            "weighted avg       0.98      0.98      0.98     10135\n",
            "\n",
            "\n",
            "=== Fold 3/3 ===\n",
            "\n",
            "Epoch 1/10\n"
          ]
        },
        {
          "name": "stderr",
          "output_type": "stream",
          "text": []
        },
        {
          "name": "stdout",
          "output_type": "stream",
          "text": [
            "Train Loss: 0.0504 | Val Loss: 0.0294\n",
            "Val ROC AUC: 0.9850\n",
            "Confusion Matrix:\n",
            "[[9093  465]\n",
            " [  37  540]]\n",
            "Classification Report:\n",
            "              precision    recall  f1-score   support\n",
            "\n",
            "    non-lens       1.00      0.95      0.97      9558\n",
            "        lens       0.54      0.94      0.68       577\n",
            "\n",
            "    accuracy                           0.95     10135\n",
            "   macro avg       0.77      0.94      0.83     10135\n",
            "weighted avg       0.97      0.95      0.96     10135\n",
            "\n",
            "\n",
            "Epoch 2/10\n"
          ]
        },
        {
          "name": "stderr",
          "output_type": "stream",
          "text": []
        },
        {
          "name": "stdout",
          "output_type": "stream",
          "text": [
            "Train Loss: 0.0431 | Val Loss: 0.1110\n",
            "Val ROC AUC: 0.9800\n",
            "Confusion Matrix:\n",
            "[[7178 2380]\n",
            " [  10  567]]\n",
            "Classification Report:\n",
            "              precision    recall  f1-score   support\n",
            "\n",
            "    non-lens       1.00      0.75      0.86      9558\n",
            "        lens       0.19      0.98      0.32       577\n",
            "\n",
            "    accuracy                           0.76     10135\n",
            "   macro avg       0.60      0.87      0.59     10135\n",
            "weighted avg       0.95      0.76      0.83     10135\n",
            "\n",
            "\n",
            "Epoch 3/10\n"
          ]
        },
        {
          "name": "stderr",
          "output_type": "stream",
          "text": []
        },
        {
          "name": "stdout",
          "output_type": "stream",
          "text": [
            "Train Loss: 0.0419 | Val Loss: 0.0331\n",
            "Val ROC AUC: 0.9858\n",
            "Confusion Matrix:\n",
            "[[8918  640]\n",
            " [  31  546]]\n",
            "Classification Report:\n",
            "              precision    recall  f1-score   support\n",
            "\n",
            "    non-lens       1.00      0.93      0.96      9558\n",
            "        lens       0.46      0.95      0.62       577\n",
            "\n",
            "    accuracy                           0.93     10135\n",
            "   macro avg       0.73      0.94      0.79     10135\n",
            "weighted avg       0.97      0.93      0.94     10135\n",
            "\n",
            "\n",
            "Epoch 4/10\n"
          ]
        },
        {
          "name": "stderr",
          "output_type": "stream",
          "text": []
        },
        {
          "name": "stdout",
          "output_type": "stream",
          "text": [
            "Train Loss: 0.0380 | Val Loss: 0.0410\n",
            "Val ROC AUC: 0.9874\n",
            "Confusion Matrix:\n",
            "[[8964  594]\n",
            " [  25  552]]\n",
            "Classification Report:\n",
            "              precision    recall  f1-score   support\n",
            "\n",
            "    non-lens       1.00      0.94      0.97      9558\n",
            "        lens       0.48      0.96      0.64       577\n",
            "\n",
            "    accuracy                           0.94     10135\n",
            "   macro avg       0.74      0.95      0.80     10135\n",
            "weighted avg       0.97      0.94      0.95     10135\n",
            "\n",
            "\n",
            "Epoch 5/10\n"
          ]
        },
        {
          "name": "stderr",
          "output_type": "stream",
          "text": []
        },
        {
          "name": "stdout",
          "output_type": "stream",
          "text": [
            "Train Loss: 0.0388 | Val Loss: 0.0796\n",
            "Val ROC AUC: 0.9885\n",
            "Confusion Matrix:\n",
            "[[8409 1149]\n",
            " [   7  570]]\n",
            "Classification Report:\n",
            "              precision    recall  f1-score   support\n",
            "\n",
            "    non-lens       1.00      0.88      0.94      9558\n",
            "        lens       0.33      0.99      0.50       577\n",
            "\n",
            "    accuracy                           0.89     10135\n",
            "   macro avg       0.67      0.93      0.72     10135\n",
            "weighted avg       0.96      0.89      0.91     10135\n",
            "\n",
            "\n",
            "Epoch 6/10\n"
          ]
        },
        {
          "name": "stderr",
          "output_type": "stream",
          "text": []
        },
        {
          "name": "stdout",
          "output_type": "stream",
          "text": [
            "Train Loss: 0.0294 | Val Loss: 0.0180\n",
            "Val ROC AUC: 0.9902\n",
            "Confusion Matrix:\n",
            "[[9254  304]\n",
            " [  29  548]]\n",
            "Classification Report:\n",
            "              precision    recall  f1-score   support\n",
            "\n",
            "    non-lens       1.00      0.97      0.98      9558\n",
            "        lens       0.64      0.95      0.77       577\n",
            "\n",
            "    accuracy                           0.97     10135\n",
            "   macro avg       0.82      0.96      0.87     10135\n",
            "weighted avg       0.98      0.97      0.97     10135\n",
            "\n",
            "\n",
            "Epoch 7/10\n"
          ]
        },
        {
          "name": "stderr",
          "output_type": "stream",
          "text": []
        },
        {
          "name": "stdout",
          "output_type": "stream",
          "text": [
            "Train Loss: 0.0267 | Val Loss: 0.0181\n",
            "Val ROC AUC: 0.9906\n",
            "Confusion Matrix:\n",
            "[[9342  216]\n",
            " [  46  531]]\n",
            "Classification Report:\n",
            "              precision    recall  f1-score   support\n",
            "\n",
            "    non-lens       1.00      0.98      0.99      9558\n",
            "        lens       0.71      0.92      0.80       577\n",
            "\n",
            "    accuracy                           0.97     10135\n",
            "   macro avg       0.85      0.95      0.89     10135\n",
            "weighted avg       0.98      0.97      0.98     10135\n",
            "\n",
            "\n",
            "Epoch 8/10\n"
          ]
        },
        {
          "name": "stderr",
          "output_type": "stream",
          "text": []
        },
        {
          "name": "stdout",
          "output_type": "stream",
          "text": [
            "Train Loss: 0.0211 | Val Loss: 0.0238\n",
            "Val ROC AUC: 0.9919\n",
            "Confusion Matrix:\n",
            "[[9198  360]\n",
            " [  29  548]]\n",
            "Classification Report:\n",
            "              precision    recall  f1-score   support\n",
            "\n",
            "    non-lens       1.00      0.96      0.98      9558\n",
            "        lens       0.60      0.95      0.74       577\n",
            "\n",
            "    accuracy                           0.96     10135\n",
            "   macro avg       0.80      0.96      0.86     10135\n",
            "weighted avg       0.97      0.96      0.97     10135\n",
            "\n",
            "\n",
            "Epoch 9/10\n"
          ]
        },
        {
          "name": "stderr",
          "output_type": "stream",
          "text": []
        },
        {
          "name": "stdout",
          "output_type": "stream",
          "text": [
            "Train Loss: 0.0170 | Val Loss: 0.0198\n",
            "Val ROC AUC: 0.9913\n",
            "Confusion Matrix:\n",
            "[[9335  223]\n",
            " [  40  537]]\n",
            "Classification Report:\n",
            "              precision    recall  f1-score   support\n",
            "\n",
            "    non-lens       1.00      0.98      0.99      9558\n",
            "        lens       0.71      0.93      0.80       577\n",
            "\n",
            "    accuracy                           0.97     10135\n",
            "   macro avg       0.85      0.95      0.89     10135\n",
            "weighted avg       0.98      0.97      0.98     10135\n",
            "\n",
            "\n",
            "Epoch 10/10\n"
          ]
        },
        {
          "name": "stderr",
          "output_type": "stream",
          "text": []
        },
        {
          "name": "stdout",
          "output_type": "stream",
          "text": [
            "Train Loss: 0.0160 | Val Loss: 0.0193\n",
            "Val ROC AUC: 0.9921\n",
            "Confusion Matrix:\n",
            "[[9322  236]\n",
            " [  31  546]]\n",
            "Classification Report:\n",
            "              precision    recall  f1-score   support\n",
            "\n",
            "    non-lens       1.00      0.98      0.99      9558\n",
            "        lens       0.70      0.95      0.80       577\n",
            "\n",
            "    accuracy                           0.97     10135\n",
            "   macro avg       0.85      0.96      0.89     10135\n",
            "weighted avg       0.98      0.97      0.98     10135\n",
            "\n"
          ]
        },
        {
          "name": "stderr",
          "output_type": "stream",
          "text": [
            "<ipython-input-16-bbcacfc0b386>:66: FutureWarning: You are using `torch.load` with `weights_only=False` (the current default value), which uses the default pickle module implicitly. It is possible to construct malicious pickle data which will execute arbitrary code during unpickling (See https://github.com/pytorch/pytorch/blob/main/SECURITY.md#untrusted-models for more details). In a future release, the default value for `weights_only` will be flipped to `True`. This limits the functions that could be executed during unpickling. Arbitrary objects will no longer be allowed to be loaded via this mode unless they are explicitly allowlisted by the user via `torch.serialization.add_safe_globals`. We recommend you start setting `weights_only=True` for any use case where you don't have full control of the loaded file. Please open an issue on GitHub for any issues related to this experimental feature.\n",
            "  model.load_state_dict(torch.load(f\"best_fold{f}.pth\"))\n"
          ]
        }
      ],
      "source": [
        "def run_experiment(config):\n",
        "    file_paths, labels = load_dataset_paths()\n",
        "    skf = StratifiedKFold(n_splits=config['n_splits'], shuffle=True, random_state=42)\n",
        "\n",
        "    device = torch.device('cuda' if torch.cuda.is_available() else 'cpu')\n",
        "\n",
        "    for fold, (train_idx, val_idx) in enumerate(skf.split(file_paths, labels)):\n",
        "        print(f\"\\n=== Fold {fold+1}/{config['n_splits']} ===\")\n",
        "\n",
        "        train_set = NPYDataset([file_paths[i] for i in train_idx],\n",
        "                               labels[train_idx],\n",
        "                               transform=AdvancedAstroAugment())\n",
        "        val_set = NPYDataset([file_paths[i] for i in val_idx],\n",
        "                             labels[val_idx],\n",
        "                             transform=val_transform)\n",
        "\n",
        "        train_labels = labels[train_idx]\n",
        "        class_counts = np.bincount(train_labels)\n",
        "        weights = 1. / class_counts\n",
        "        samples_weights = weights[train_labels]\n",
        "        sampler = torch.utils.data.WeightedRandomSampler(\n",
        "            samples_weights, len(samples_weights), replacement=True)\n",
        "\n",
        "        train_loader = DataLoader(train_set, batch_size=config['batch_size'],\n",
        "                                  sampler=sampler, num_workers=4, pin_memory=True)\n",
        "        val_loader = DataLoader(val_set, batch_size=config['batch_size'] * 2,\n",
        "                                shuffle=False, num_workers=4, pin_memory=True)\n",
        "\n",
        "        model = GravitationalLensClassifier()\n",
        "        model.class_weights = torch.tensor(config['class_weights']).to(device)\n",
        "        model.to(device)\n",
        "\n",
        "        optimizer = optim.AdamW(model.parameters(), lr=config['lr'],\n",
        "                                weight_decay=config['weight_decay'])\n",
        "        scheduler = torch.optim.lr_scheduler.OneCycleLR(\n",
        "            optimizer, max_lr=config['max_lr'],\n",
        "            steps_per_epoch=len(train_loader), epochs=config['epochs'])\n",
        "\n",
        "        criterion = AsymmetricFocalLoss(alpha=0.8, gamma=2.0)\n",
        "\n",
        "        scaler = torch.amp.GradScaler()\n",
        "        trainer = Trainer(model, device, optimizer, scheduler, criterion, scaler)\n",
        "\n",
        "        best_score = 0\n",
        "        for epoch in range(config['epochs']):\n",
        "            print(f\"\\nEpoch {epoch+1}/{config['epochs']}\")\n",
        "\n",
        "            train_loss, train_preds, train_targets = trainer.train_epoch(train_loader)\n",
        "            train_metrics = calculate_metrics(train_preds, train_targets)\n",
        "\n",
        "            val_loss, val_preds, val_targets = trainer.evaluate(val_loader)\n",
        "            val_metrics = calculate_metrics(val_preds, val_targets)\n",
        "\n",
        "            if val_metrics['roc_auc'] > best_score:\n",
        "                best_score = val_metrics['roc_auc']\n",
        "                torch.save(model.state_dict(), f\"best_fold{fold}.pth\")\n",
        "\n",
        "            print(f\"Train Loss: {train_loss:.4f} | Val Loss: {val_loss:.4f}\")\n",
        "            print(f\"Val ROC AUC: {val_metrics['roc_auc']:.4f}\")\n",
        "            print(f\"Confusion Matrix:\\n{val_metrics['confusion_matrix']}\")\n",
        "            print(f\"Classification Report:\\n{val_metrics['class_report']}\")\n",
        "\n",
        "    ensemble_models = []\n",
        "    for f in range(config['n_splits']):\n",
        "        model = GravitationalLensClassifier()\n",
        "        model.load_state_dict(torch.load(f\"best_fold{f}.pth\"))\n",
        "        model.to(device)\n",
        "        ensemble_models.append(model)\n",
        "    return ensemble_models\n",
        "\n",
        "config = {\n",
        "    'n_splits': 3,\n",
        "    'epochs': 10,\n",
        "    'batch_size': 32,\n",
        "    'lr': 1e-4,\n",
        "    'max_lr': 3e-4,\n",
        "    'weight_decay': 0.05,\n",
        "    'class_weights': [0.53, 8.78],\n",
        "    'patience': 5\n",
        "}\n",
        "\n",
        "ensemble = run_experiment(config)"
      ]
    },
    {
      "cell_type": "code",
      "execution_count": 17,
      "metadata": {
        "id": "DG-tkr76hB3K"
      },
      "outputs": [],
      "source": [
        "import cv2\n",
        "import matplotlib.pyplot as plt"
      ]
    },
    {
      "cell_type": "code",
      "execution_count": 47,
      "metadata": {
        "id": "twE_UzGtixGg"
      },
      "outputs": [],
      "source": [
        "class GradCAM:\n",
        "    def __init__(self, model, target_layer):\n",
        "        self.model = model\n",
        "        self.target_layer = self._get_target_layer(target_layer)\n",
        "        self.gradients = None\n",
        "        self.activations = None\n",
        "        self._register_hooks()\n",
        "\n",
        "    def _get_target_layer(self, target_layer):\n",
        "        if isinstance(target_layer, str):\n",
        "            return dict([*self.model.named_modules()])[target_layer]\n",
        "        return target_layer\n",
        "\n",
        "    def _register_hooks(self):\n",
        "        def forward_hook(module, input, output):\n",
        "            self.activations = output\n",
        "\n",
        "        def backward_hook(module, grad_input, grad_output):\n",
        "            self.gradients = grad_output[0]\n",
        "\n",
        "        self.target_layer.register_forward_hook(forward_hook)\n",
        "        self.target_layer.register_backward_hook(backward_hook)\n",
        "\n",
        "    def generate_cam(self, input_tensor, class_idx=None):\n",
        "        self.model.eval()\n",
        "        input_tensor.requires_grad = True\n",
        "\n",
        "        output = self.model(input_tensor)\n",
        "\n",
        "        if class_idx is None:\n",
        "            class_idx = output.argmax().item()\n",
        "\n",
        "        self.model.zero_grad()\n",
        "        output[:, class_idx].backward(retain_graph=True)\n",
        "\n",
        "        gradients = self.gradients.detach()\n",
        "        activations = self.activations.detach()\n",
        "        pooled_grads = torch.mean(gradients, dim=[0, 2, 3])\n",
        "\n",
        "        for i in range(activations.shape[1]):\n",
        "            activations[:, i, :, :] *= pooled_grads[i]\n",
        "\n",
        "        heatmap = torch.mean(activations, dim=1).squeeze().cpu().numpy()\n",
        "        heatmap = np.maximum(heatmap, 0)\n",
        "        heatmap = heatmap / np.max(heatmap)\n",
        "\n",
        "        return heatmap"
      ]
    },
    {
      "cell_type": "code",
      "execution_count": null,
      "metadata": {
        "id": "f6GuLdETiyIZ"
      },
      "outputs": [],
      "source": [
        "device = torch.device(\"cuda\" if torch.cuda.is_available() else \"cpu\")\n",
        "model = GravitationalLensClassifier(num_classes=2).to(device)\n",
        "model.load_state_dict(torch.load(\"/content/best_fold1_focal_submit.pth\", map_location=device))\n",
        "model.eval()"
      ]
    },
    {
      "cell_type": "code",
      "execution_count": 51,
      "metadata": {
        "id": "YHxPSuE4i8HO"
      },
      "outputs": [],
      "source": [
        "target_layer = model.attn2\n",
        "gradcam = GradCAM(model, target_layer)"
      ]
    },
    {
      "cell_type": "code",
      "execution_count": 66,
      "metadata": {
        "id": "Xf-42x-cj9SJ"
      },
      "outputs": [],
      "source": [
        "def preprocess_image(npy_file):\n",
        "    image = np.load(npy_file)\n",
        "    image = torch.tensor(image).unsqueeze(0)\n",
        "    image = image.expand(1, 3, *image.shape[2:])\n",
        "    image = image.float().to(device)\n",
        "    return image\n",
        "\n",
        "def overlay_heatmap(image_path, heatmap):\n",
        "    original_img = np.load(image_path)[0]\n",
        "    original_img = cv2.resize(original_img, (224, 224))\n",
        "\n",
        "    heatmap = cv2.resize(heatmap, (224, 224))\n",
        "    heatmap = np.uint8(255 * heatmap)\n",
        "    heatmap = cv2.applyColorMap(heatmap, cv2.COLORMAP_JET)\n",
        "\n",
        "    if original_img.ndim == 2:\n",
        "        original_img = cv2.cvtColor(original_img, cv2.COLOR_GRAY2BGR)\n",
        "    superimposed_img = heatmap * 0.5 + original_img\n",
        "    superimposed_img = np.clip(superimposed_img, 0, 255).astype(np.uint8)\n",
        "\n",
        "    return superimposed_img\n",
        "\n",
        "def visualize_gradcam(model, gradcam, image_path):\n",
        "    input_tensor = preprocess_image(image_path)\n",
        "    heatmap = gradcam.generate_cam(input_tensor)\n",
        "    result_image = overlay_heatmap(image_path, heatmap)\n",
        "\n",
        "    plt.figure(figsize=(10, 5))\n",
        "\n",
        "    plt.subplot(1, 2, 1)\n",
        "    plt.imshow(np.load(image_path)[0], cmap='gray')\n",
        "    plt.title(\"Original Image\")\n",
        "\n",
        "    plt.subplot(1, 2, 2)\n",
        "    plt.imshow(result_image[:, :, ::-1])\n",
        "    plt.title(\"Grad-CAM Heatmap\")\n",
        "\n",
        "    plt.show()\n",
        "\n",
        "def visualize_activations(model, image_path, num_channels=4):\n",
        "    model.eval()\n",
        "    input_tensor = preprocess_image(image_path)\n",
        "\n",
        "    layers = [\n",
        "        (\"Feature Extractor\", model.feature_extractor),\n",
        "        (\"Attention Module 1\", model.attn1),\n",
        "        (\"Attention Module 2\", model.attn2)\n",
        "    ]\n",
        "\n",
        "    activations = {}\n",
        "    x = input_tensor\n",
        "    for name, layer in layers:\n",
        "        x = layer(x)\n",
        "        activation = x.detach().cpu()\n",
        "        activations[name] = activation\n",
        "\n",
        "        print(f\"{name} activation shape: {activation.shape}\")\n",
        "        print(f\"Global min: {activation.min().item():.4f}, Global max: {activation.max().item():.4f}\\n\")\n",
        "\n",
        "    for name, activation in activations.items():\n",
        "        num_total_channels = activation.shape[1]\n",
        "        channels_to_show = min(num_channels, num_total_channels)\n",
        "        fig, axes = plt.subplots(1, channels_to_show, figsize=(4 * channels_to_show, 4))\n",
        "        fig.suptitle(f\"{name} - First {channels_to_show} Channels\", fontsize=16)\n",
        "\n",
        "        if channels_to_show == 1:\n",
        "            axes = [axes]\n",
        "\n",
        "        for i in range(channels_to_show):\n",
        "            act_map = activation[0, i].numpy()\n",
        "            axes[i].imshow(act_map, cmap='viridis')\n",
        "            axes[i].axis('off')\n",
        "            axes[i].set_title(f\"Channel {i}\\nmin: {act_map.min():.2f}, max: {act_map.max():.2f}\")\n",
        "        plt.tight_layout()\n",
        "        plt.show()"
      ]
    },
    {
      "cell_type": "code",
      "execution_count": 67,
      "metadata": {
        "colab": {
          "base_uri": "https://localhost:8080/",
          "height": 1000
        },
        "id": "W_leavc9kPaI",
        "outputId": "ef3522f3-6b26-4f78-c236-c78f69ba49e0"
      },
      "outputs": [
        {
          "data": {
            "image/png": "[encoded data removed]",
            "text/plain": [
              "<Figure size 1000x500 with 2 Axes>"
            ]
          },
          "metadata": {},
          "output_type": "display_data"
        },
        {
          "name": "stdout",
          "output_type": "stream",
          "text": [
            "Feature Extractor activation shape: torch.Size([1, 1024, 1, 1])\n",
            "Global min: -7.5263, Global max: 10.1602\n",
            "\n",
            "Attention Module 1 activation shape: torch.Size([1, 1024, 1, 1])\n",
            "Global min: -14.0157, Global max: 18.8959\n",
            "\n",
            "Attention Module 2 activation shape: torch.Size([1, 1024, 1, 1])\n",
            "Global min: -14.3787, Global max: 19.6693\n",
            "\n"
          ]
        },
        {
          "data": {
            "image/png": "[encoded data removed]",
            "text/plain": [
              "<Figure size 1600x400 with 4 Axes>"
            ]
          },
          "metadata": {},
          "output_type": "display_data"
        },
        {
          "data": {
            "image/png": "[encoded data removed]",
            "text/plain": [
              "<Figure size 1600x400 with 4 Axes>"
            ]
          },
          "metadata": {},
          "output_type": "display_data"
        },
        {
          "data": {
            "image/png": "[encoded data removed]",
            "text/plain": [
              "<Figure size 1600x400 with 4 Axes>"
            ]
          },
          "metadata": {},
          "output_type": "display_data"
        }
      ],
      "source": [
        "visualize_gradcam(model, gradcam, \"/content/train_nonlenses/1.npy\")\n",
        "visualize_activations(model, \"/content/train_nonlenses/1.npy\")"
      ]
    },
    {
      "cell_type": "code",
      "execution_count": 68,
      "metadata": {
        "id": "uEDBzzJ3m3oL"
      },
      "outputs": [],
      "source": [
        "class_labels = [\"test_nonlenses\", \"test_lenses\"]\n",
        "\n",
        "def load_npy_image(npy_file):\n",
        "    arr = np.load(npy_file)\n",
        "    arr = np.squeeze(arr)\n",
        "\n",
        "    if arr.ndim == 2:\n",
        "        arr = np.stack([arr, arr, arr], axis=-1)\n",
        "    elif arr.ndim == 3:\n",
        "        if arr.shape[0] == 1:\n",
        "            arr = np.repeat(arr, 3, axis=0)\n",
        "            arr = np.transpose(arr, (1, 2, 0))\n",
        "        elif arr.shape[0] == 3:\n",
        "            arr = np.transpose(arr, (1, 2, 0))\n",
        "    else:\n",
        "        raise ValueError(\"Unexpected image shape: {}\".format(arr.shape))\n",
        "\n",
        "    img = Image.fromarray((arr * 255).astype(np.uint8))\n",
        "    return img\n",
        "\n",
        "def predict_npy(npy_file, model, device):\n",
        "    image = load_npy_image(npy_file)\n",
        "\n",
        "    transform = transforms.Compose([\n",
        "        transforms.Resize(256),\n",
        "        transforms.CenterCrop(224),\n",
        "        transforms.ToTensor(),\n",
        "        transforms.Normalize(mean=[0.485, 0.456, 0.406],\n",
        "                            std=[0.229, 0.224, 0.225])\n",
        "    ])\n",
        "\n",
        "    image_tensor = transform(image).unsqueeze(0).to(device)\n",
        "\n",
        "    model.eval()\n",
        "    with torch.no_grad():\n",
        "        outputs = model(image_tensor)\n",
        "        probabilities = torch.softmax(outputs, dim=1)\n",
        "        predicted_idx = probabilities.argmax(dim=1).item()\n",
        "\n",
        "    predicted_label = class_labels[predicted_idx]\n",
        "    return predicted_label, probabilities.cpu().numpy()"
      ]
    },
    {
      "cell_type": "code",
      "execution_count": 69,
      "metadata": {
        "colab": {
          "base_uri": "https://localhost:8080/"
        },
        "id": "2bixQS5IoYj1",
        "outputId": "e74feaa9-d590-43e8-ab68-fae77e84728b"
      },
      "outputs": [
        {
          "name": "stderr",
          "output_type": "stream",
          "text": [
            "Processing test_nonlenses: 100%|██████████| 19455/19455 [07:45<00:00, 41.83it/s]\n"
          ]
        },
        {
          "name": "stdout",
          "output_type": "stream",
          "text": [
            "'test_nonlenses': 97.23%\n"
          ]
        },
        {
          "name": "stderr",
          "output_type": "stream",
          "text": [
            "Processing test_lenses: 100%|██████████| 195/195 [00:04<00:00, 42.09it/s]"
          ]
        },
        {
          "name": "stdout",
          "output_type": "stream",
          "text": [
            "'test_lenses': 94.36%\n"
          ]
        },
        {
          "name": "stderr",
          "output_type": "stream",
          "text": [
            "\n"
          ]
        }
      ],
      "source": [
        "categories = [\"test_nonlenses\", \"test_lenses\"]\n",
        "\n",
        "for category in categories:\n",
        "    count = 0\n",
        "    folder = f\"/content/{category}/\"\n",
        "    file_list = os.listdir(folder)\n",
        "    for i in tqdm(range(len(file_list)), desc=f\"Processing {category}\"):\n",
        "        npy_file = f\"{folder}{i+1}.npy\"\n",
        "        label, probs = predict_npy(npy_file, model, device)\n",
        "        if label == category:\n",
        "            count += 1\n",
        "\n",
        "    percentage = (count / len(file_list)) * 100\n",
        "    print(f\"'{category}': {percentage:.2f}%\")"
      ]
    },
    {
      "cell_type": "code",
      "execution_count": null,
      "metadata": {
        "id": "bU81EZW0ohoi"
      },
      "outputs": [],
      "source": []
    }
  ],
  "metadata": {
    "accelerator": "GPU",
    "colab": {
      "gpuType": "L4",
      "provenance": []
    },
    "kernelspec": {
      "display_name": "Python 3",
      "name": "python3"
    },
    "language_info": {
      "name": "python"
    }
  },
  "nbformat": 4,
  "nbformat_minor": 0
}
